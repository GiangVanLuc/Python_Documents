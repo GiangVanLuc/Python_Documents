{
 "cells": [
  {
   "cell_type": "markdown",
   "id": "df452481",
   "metadata": {},
   "source": [
    "# UNPACKING\n"
   ]
  },
  {
   "cell_type": "markdown",
   "id": "0fe5e745",
   "metadata": {},
   "source": [
    "## Giới thiệu về unpacking\n",
    "- Unpacking là một kỹ thuật giúp tách một tuple, list, iterable... ra thành các biến rời rạc.\n",
    "- Khi unpacking chú ý số lượng phần tử ở bên trái dấu bằng phải bằng số lượng phần tử của iterable bên phải dấu bằng"
   ]
  },
  {
   "cell_type": "code",
   "execution_count": 1,
   "id": "dc40bff9",
   "metadata": {},
   "outputs": [
    {
     "name": "stdout",
     "output_type": "stream",
     "text": [
      "1 2 3\n"
     ]
    }
   ],
   "source": [
    "from math import *\n",
    "a = [1, 2, 3]\n",
    "x, y , z = a\n",
    "print(x, y, z)"
   ]
  },
  {
   "cell_type": "markdown",
   "id": "8fd5685e",
   "metadata": {},
   "source": [
    "## Một số ví dụ:\n",
    "### Unpacking với list"
   ]
  },
  {
   "cell_type": "code",
   "execution_count": 2,
   "id": "855c5728",
   "metadata": {},
   "outputs": [
    {
     "name": "stdout",
     "output_type": "stream",
     "text": [
      "Luc LucGiang@gmai.com 2022\n"
     ]
    }
   ],
   "source": [
    "data = [\"Luc\", \"LucGiang@gmai.com\", \"2022\"]\n",
    "name, email, birth = data\n",
    "print(name, email, birth)"
   ]
  },
  {
   "cell_type": "markdown",
   "id": "37b2db2d",
   "metadata": {},
   "source": [
    "### Unpacking với tuple\n",
    "- Trong trường hợp bạn chỉ muốn lấy ra các phần tử cần thiết, có thể dùng biến có tên _ (gạch dưới) để bỏ đi những biến không cần thiết.\n"
   ]
  },
  {
   "cell_type": "code",
   "execution_count": 3,
   "id": "ae0e1da1",
   "metadata": {},
   "outputs": [
    {
     "name": "stdout",
     "output_type": "stream",
     "text": [
      "CR7 ManUTD\n"
     ]
    }
   ],
   "source": [
    "data = (\"CR7\", \"ManUTD\", 1985, \"BDN\")\n",
    "name, club, _, _ = data\n",
    "print(name,club)"
   ]
  },
  {
   "cell_type": "markdown",
   "id": "111807c6",
   "metadata": {},
   "source": [
    "### Unpacking với str\n"
   ]
  },
  {
   "cell_type": "code",
   "execution_count": 4,
   "id": "a1e2c4c2",
   "metadata": {},
   "outputs": [
    {
     "name": "stdout",
     "output_type": "stream",
     "text": [
      "C R 7\n"
     ]
    }
   ],
   "source": [
    "s = \"CR7\"\n",
    "a, b , c = s\n",
    "print(a,b,c)"
   ]
  },
  {
   "cell_type": "markdown",
   "id": "3d9ee611",
   "metadata": {},
   "source": [
    "### Unpacking với range"
   ]
  },
  {
   "cell_type": "code",
   "execution_count": 5,
   "id": "0bfc200c",
   "metadata": {},
   "outputs": [
    {
     "name": "stdout",
     "output_type": "stream",
     "text": [
      "0 2 4\n"
     ]
    }
   ],
   "source": [
    "a, b , c = range(0, 5, 2)\n",
    "print(a,b,c)"
   ]
  },
  {
   "cell_type": "markdown",
   "id": "cb6cff7d",
   "metadata": {},
   "source": [
    "### Unpacking với set\n",
    "- Đối với set việc unpacking có thể dẫn tới một thứ tự bất kì vì set vốn không có thứ tự như những iterable ở ví dụ trên"
   ]
  },
  {
   "cell_type": "code",
   "execution_count": 6,
   "id": "7f6e5e36",
   "metadata": {},
   "outputs": [
    {
     "name": "stdout",
     "output_type": "stream",
     "text": [
      "java python Luc\n"
     ]
    }
   ],
   "source": [
    "my_set = {\"Luc\", \"java\", \"python\"}\n",
    "a, b, c = my_set\n",
    "print(a, b , c)"
   ]
  },
  {
   "cell_type": "markdown",
   "id": "373015cc",
   "metadata": {},
   "source": [
    "### Unpacking trong vòng for"
   ]
  },
  {
   "cell_type": "code",
   "execution_count": 7,
   "id": "aede7ddc",
   "metadata": {},
   "outputs": [
    {
     "name": "stdout",
     "output_type": "stream",
     "text": [
      "1 -> one\n",
      "2 -> two\n",
      "3 -> three\n"
     ]
    }
   ],
   "source": [
    "a = ((1, \"one\"), (2,\"two\"), (3,\"three\"))\n",
    "for x, y in a:\n",
    "    print(x,\"->\" , y)"
   ]
  },
  {
   "cell_type": "markdown",
   "id": "7d33f6c7",
   "metadata": {},
   "source": [
    "### Unpacking với toán tử *\n",
    "- Trong trường hợp iterable bên phải dấu bằng có quá nhiều toán phần tử, trong khi đó bạn lại chỉ muốn lấy ra một vài phần tử, khi đó các bạn áp dụng toán tử *."
   ]
  },
  {
   "cell_type": "code",
   "execution_count": 8,
   "id": "a12638c7",
   "metadata": {},
   "outputs": [
    {
     "name": "stdout",
     "output_type": "stream",
     "text": [
      "C# C++\n",
      "['java', '28tech', 'python']\n"
     ]
    }
   ],
   "source": [
    "# Ví dụ 1\n",
    "s  = {\"28tech\", \"java\", \"python\", \"C++\",\"C#\"}\n",
    "a, b , *c = s\n",
    "print(a,b)\n",
    "print(c)"
   ]
  },
  {
   "cell_type": "code",
   "execution_count": 9,
   "id": "c880f691",
   "metadata": {},
   "outputs": [
    {
     "name": "stdout",
     "output_type": "stream",
     "text": [
      "C#\n",
      "['C++', 'java', '28tech']\n",
      "python\n"
     ]
    }
   ],
   "source": [
    "# Ví dụ 2\n",
    "s  = {\"28tech\", \"java\", \"python\", \"C++\",\"C#\"}\n",
    "a, *b , c = s\n",
    "print(a)\n",
    "print(b)\n",
    "print(c)"
   ]
  }
 ],
 "metadata": {
  "kernelspec": {
   "display_name": "Python 3",
   "language": "python",
   "name": "python3"
  },
  "language_info": {
   "codemirror_mode": {
    "name": "ipython",
    "version": 3
   },
   "file_extension": ".py",
   "mimetype": "text/x-python",
   "name": "python",
   "nbconvert_exporter": "python",
   "pygments_lexer": "ipython3",
   "version": "3.12.2"
  }
 },
 "nbformat": 4,
 "nbformat_minor": 5
}
