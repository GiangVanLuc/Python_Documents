{
 "cells": [
  {
   "cell_type": "markdown",
   "metadata": {},
   "source": [
    "# TUPLE\n",
    "- Tuple là một collection có thự tự trong Python"
   ]
  },
  {
   "cell_type": "markdown",
   "metadata": {},
   "source": [
    "## Các tính chất của tuple\n",
    "- Tuple are ordered: Các phần tử lưu trong tuple có thứ tự\n",
    "- Accessed by index : Truy cập các phâng tử trong tuple thông qua chỉ số.\n",
    "- Tuple can contain any sort of object: Tuple có thể chứa các phần tử ở mọi loại object như int, float, str, tuple, list,...\n",
    "- Tuple are immutable: Tuple không thể thay đổi, tức là không thể thêm, sửa, xóa.\n"
   ]
  },
  {
   "cell_type": "markdown",
   "metadata": {},
   "source": [
    "## 1. Tạo tuple\n",
    "- để tạo tuple ta đưa ra các phần tử của tuple vào trong đóng mở ngoặc tròn.\n"
   ]
  },
  {
   "cell_type": "code",
   "execution_count": 1,
   "metadata": {},
   "outputs": [
    {
     "name": "stdout",
     "output_type": "stream",
     "text": [
      "<class 'tuple'>\n",
      "<class 'tuple'>\n",
      "<class 'tuple'>\n"
     ]
    }
   ],
   "source": [
    "a = (1, 2, 3)\n",
    "b = (\"Luc\", \"python\", \"java\")\n",
    "c = (2804, )\n",
    "print(type(a))\n",
    "print(type(b))\n",
    "print(type(c))"
   ]
  },
  {
   "cell_type": "markdown",
   "metadata": {},
   "source": [
    "- Tạo tuple thông qua constructor tuple().\n"
   ]
  },
  {
   "cell_type": "code",
   "execution_count": 2,
   "metadata": {},
   "outputs": [
    {
     "name": "stdout",
     "output_type": "stream",
     "text": [
      "('L', 'u', 'c', 'c', 'u', 't', 'e')\n",
      "(1, 2, 3)\n"
     ]
    }
   ],
   "source": [
    "s = \"Luccute\"\n",
    "b = tuple(s)\n",
    "c = tuple([1, 2, 3])\n",
    "print(b)\n",
    "print(c)"
   ]
  },
  {
   "cell_type": "markdown",
   "metadata": {},
   "source": [
    "## 2. Nested tuple:\n",
    "- Tuple có thể chứa mọi object trong Python vì thế nó cũng có thể chứa một tuple khác.\n"
   ]
  },
  {
   "cell_type": "code",
   "execution_count": 3,
   "metadata": {},
   "outputs": [
    {
     "name": "stdout",
     "output_type": "stream",
     "text": [
      "<class 'tuple'>\n"
     ]
    }
   ],
   "source": [
    "a = (\"28tech\", (1, 2 ,3), \"apple\")\n",
    "print(type(a))\n"
   ]
  },
  {
   "cell_type": "markdown",
   "metadata": {},
   "source": [
    "## 3. Tuple unpacking\n",
    "- Khi unpacking thì số lượng biến ở bên phải dấu = phải bằng với số lượng phần tử ở bên trong tuple"
   ]
  },
  {
   "cell_type": "code",
   "execution_count": 4,
   "metadata": {},
   "outputs": [
    {
     "name": "stdout",
     "output_type": "stream",
     "text": [
      "Luc94 Python java C++\n"
     ]
    }
   ],
   "source": [
    "a = (\"Luc94\", \"Python\", \"java\",\"C++\")\n",
    "x, y , z ,t = a\n",
    "print(x, y , z , t)"
   ]
  },
  {
   "cell_type": "markdown",
   "metadata": {},
   "source": [
    "- Trong trường hợp unpacking không đủ số lượng phần tử, bạn có thể sử dụng toán tử *.\n"
   ]
  },
  {
   "cell_type": "code",
   "execution_count": 5,
   "metadata": {},
   "outputs": [
    {
     "name": "stdout",
     "output_type": "stream",
     "text": [
      "Luc94 ['Python', 'java', 'C++']\n"
     ]
    }
   ],
   "source": [
    "a = (\"Luc94\", \"Python\", \"java\",\"C++\")\n",
    "x , *y = a\n",
    "print(x, y)"
   ]
  },
  {
   "cell_type": "markdown",
   "metadata": {},
   "source": [
    "## 4. Truy cập các phần tử trong tuple\n",
    "- tượng tự như list các bạn có thể truy cập vào các item trong tuple thông qua chỉ số tính từ 0, tuple cũng hỗ trợ chí số âm.\n"
   ]
  },
  {
   "cell_type": "code",
   "execution_count": 6,
   "metadata": {},
   "outputs": [
    {
     "name": "stdout",
     "output_type": "stream",
     "text": [
      "Luc94\n",
      "java\n"
     ]
    }
   ],
   "source": [
    "a = (\"Luc94\", \"Python\", \"java\",\"C++\")\n",
    "print(a[0])\n",
    "print(a[-2])"
   ]
  },
  {
   "cell_type": "markdown",
   "metadata": {},
   "source": [
    "## 5. Duyệt tuple:\n",
    "- Để duyệt tuple ta có thể thông qua chỉ số hoặc dùng for-each."
   ]
  },
  {
   "cell_type": "code",
   "execution_count": 7,
   "metadata": {},
   "outputs": [
    {
     "name": "stdout",
     "output_type": "stream",
     "text": [
      "Luc94 Python java C++ \n",
      "Luc94 Python java C++ "
     ]
    }
   ],
   "source": [
    "a = (\"Luc94\", \"Python\", \"java\",\"C++\")\n",
    "for i in range(len(a)):\n",
    "    print(a[i], end = \" \")\n",
    "print()\n",
    "for item in a:\n",
    "    print(item , end = \" \")"
   ]
  },
  {
   "cell_type": "markdown",
   "metadata": {},
   "source": [
    "- Kiểm tra phần tử xuất hiện trong tuple."
   ]
  },
  {
   "cell_type": "code",
   "execution_count": 8,
   "metadata": {},
   "outputs": [
    {
     "name": "stdout",
     "output_type": "stream",
     "text": [
      "FOUND\n"
     ]
    }
   ],
   "source": [
    "a = (\"Luc94\", \"Python\", \"java\",\"C++\")\n",
    "if \"Luc94\" in a:\n",
    "    print(\"FOUND\")\n",
    "else:\n",
    "    print(\"NOT FOUND\")"
   ]
  },
  {
   "cell_type": "markdown",
   "metadata": {},
   "source": [
    "## 6. Thay đổi Tuple:\n",
    "Tuple không thể thay đổi giá trị nhưng nếu item trong tuple là object có thể thay đổi được thì bạn vẫn có thể thay đổi các item đó."
   ]
  },
  {
   "cell_type": "code",
   "execution_count": 9,
   "metadata": {},
   "outputs": [
    {
     "ename": "TypeError",
     "evalue": "'tuple' object does not support item assignment",
     "output_type": "error",
     "traceback": [
      "\u001b[1;31m---------------------------------------------------------------------------\u001b[0m",
      "\u001b[1;31mTypeError\u001b[0m                                 Traceback (most recent call last)",
      "Cell \u001b[1;32mIn[9], line 2\u001b[0m\n\u001b[0;32m      1\u001b[0m a \u001b[38;5;241m=\u001b[39m (\u001b[38;5;124m\"\u001b[39m\u001b[38;5;124mLuc94\u001b[39m\u001b[38;5;124m\"\u001b[39m, \u001b[38;5;124m\"\u001b[39m\u001b[38;5;124mPython\u001b[39m\u001b[38;5;124m\"\u001b[39m, \u001b[38;5;124m\"\u001b[39m\u001b[38;5;124mjava\u001b[39m\u001b[38;5;124m\"\u001b[39m,\u001b[38;5;124m\"\u001b[39m\u001b[38;5;124mC++\u001b[39m\u001b[38;5;124m\"\u001b[39m)\n\u001b[1;32m----> 2\u001b[0m \u001b[43ma\u001b[49m\u001b[43m[\u001b[49m\u001b[38;5;241;43m0\u001b[39;49m\u001b[43m]\u001b[49m \u001b[38;5;241m=\u001b[39m \u001b[38;5;124m\"\u001b[39m\u001b[38;5;124mlearning\u001b[39m\u001b[38;5;124m\"\u001b[39m\n\u001b[0;32m      3\u001b[0m \u001b[38;5;28mprint\u001b[39m(a[\u001b[38;5;241m0\u001b[39m])\n",
      "\u001b[1;31mTypeError\u001b[0m: 'tuple' object does not support item assignment"
     ]
    }
   ],
   "source": [
    "a = (\"Luc94\", \"Python\", \"java\",\"C++\")\n",
    "a[0] = \"learning\"\n",
    "print(a[0])"
   ]
  },
  {
   "cell_type": "code",
   "execution_count": 10,
   "metadata": {},
   "outputs": [
    {
     "name": "stdout",
     "output_type": "stream",
     "text": [
      "('Luc94', [100, 2, 3], 'java', 'C++')\n"
     ]
    }
   ],
   "source": [
    "a = (\"Luc94\", [1, 2, 3], \"java\",\"C++\")\n",
    "a[1][0] = 100\n",
    "print(a)"
   ]
  },
  {
   "cell_type": "markdown",
   "metadata": {},
   "source": [
    "- DÙ TUPLE KHÔNG THỂ THAY ĐỔI NHƯNG BẠN CÓ THỂ XÓA LUÔN CẢ TUPLE."
   ]
  },
  {
   "cell_type": "markdown",
   "metadata": {},
   "source": [
    "## 7. Tuple concatenation và reoetition:\n",
    "- Các bạn có thể nối tuple hoặc lặp lại tuple."
   ]
  },
  {
   "cell_type": "code",
   "execution_count": 11,
   "metadata": {},
   "outputs": [
    {
     "name": "stdout",
     "output_type": "stream",
     "text": [
      "('Luccute', 'java', 'Python', 'C++', 'C#')\n"
     ]
    }
   ],
   "source": [
    "a = (\"Luccute\", \"java\",\"Python\")\n",
    "b = (\"C++\", \"C#\")\n",
    "c = a + b\n",
    "print(c)"
   ]
  },
  {
   "cell_type": "code",
   "execution_count": 12,
   "metadata": {},
   "outputs": [
    {
     "name": "stdout",
     "output_type": "stream",
     "text": [
      "('Luc', 'java', 'Luc', 'java', 'Luc', 'java')\n"
     ]
    }
   ],
   "source": [
    "a = (\"Luc\", \"java\")\n",
    "b = a * 3\n",
    "print(b)"
   ]
  },
  {
   "cell_type": "markdown",
   "metadata": {},
   "source": [
    "## 8. Sắp xếp tuple:\n",
    "- Cách 1: sử dụng hàm built - in sorted sau đó convert ngược lại tuple."
   ]
  },
  {
   "cell_type": "code",
   "execution_count": 13,
   "metadata": {},
   "outputs": [
    {
     "name": "stdout",
     "output_type": "stream",
     "text": [
      "(1, 2, 3, 4, 5)\n"
     ]
    }
   ],
   "source": [
    "a = (5, 1, 2, 3 ,4)\n",
    "a = tuple(sorted(a))\n",
    "print(a)"
   ]
  },
  {
   "cell_type": "markdown",
   "metadata": {},
   "source": [
    "- Cách 2: Convert tuple sang list rồi sử dụng hàm sort của list."
   ]
  },
  {
   "cell_type": "code",
   "execution_count": 14,
   "metadata": {},
   "outputs": [
    {
     "name": "stdout",
     "output_type": "stream",
     "text": [
      "(1, 2, 3, 4, 5)\n"
     ]
    }
   ],
   "source": [
    "a = (5, 1 ,2 , 3 ,4)\n",
    "b = list(a)\n",
    "b.sort()\n",
    "a = tuple(b)\n",
    "print(a)"
   ]
  },
  {
   "cell_type": "markdown",
   "metadata": {},
   "source": [
    "## 9. count() và index()\n",
    "- Tuple hỗ trợ 2 hàm là count() để đếm số lần xuất hiện của 1 phần tử trong tuple và index() để trả về chỉ số đầu tiên của một phần tử trong tuple.\n",
    "- chú ý: khi dùng index hãy đảm bảo giá trị bạn cần kiểm tra chỉ số xuất hiện trong tuple, nếu không sẽ xảy ra lỗi ValueError."
   ]
  },
  {
   "cell_type": "code",
   "execution_count": 15,
   "metadata": {},
   "outputs": [
    {
     "name": "stdout",
     "output_type": "stream",
     "text": [
      "3\n",
      "1\n"
     ]
    }
   ],
   "source": [
    "a = (5, 1 ,1 ,3 ,1)\n",
    "print(a.count(1))\n",
    "print(a.index(1))"
   ]
  }
 ],
 "metadata": {
  "kernelspec": {
   "display_name": "Python 3",
   "language": "python",
   "name": "python3"
  },
  "language_info": {
   "codemirror_mode": {
    "name": "ipython",
    "version": 3
   },
   "file_extension": ".py",
   "mimetype": "text/x-python",
   "name": "python",
   "nbconvert_exporter": "python",
   "pygments_lexer": "ipython3",
   "version": "3.12.2"
  }
 },
 "nbformat": 4,
 "nbformat_minor": 2
}
