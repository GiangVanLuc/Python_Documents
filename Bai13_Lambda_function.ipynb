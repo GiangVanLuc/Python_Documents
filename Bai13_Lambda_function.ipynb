{
 "cells": [
  {
   "cell_type": "markdown",
   "metadata": {},
   "source": [
    "# LAMBDA FUNCTION\n",
    "- Lambda là 1 trong những tính năng cực kì mạnh mẽ, quan trọng và thú vị của ngôn ngữ lập trình python, Tuy nhiên kiến thức này thường bị hiểu sai hoặc hiểu thiếu.\n"
   ]
  },
  {
   "cell_type": "markdown",
   "metadata": {},
   "source": [
    "## 1. Lambda là gì ?\n",
    "- Lambda là một cách đơn giản để định nghĩa một hàm trong Python.\n",
    "- Lambda thường được gọi dưới cái tên toán tử lambda hoặc hàm lambda\n",
    "- Lambda là một cách để định nghĩa hàm vô danh (anonymous), một hàm mà không cần tên hàm. Nó được sử dụng khi bạn cần xây dựng những hàm chỉ bao gồm 1 câu lệnh, khi đó việc sử dụng keyword def để định nghĩa hàm là quá thừa thãi và dài dòng.\n"
   ]
  },
  {
   "attachments": {
    "image.png": {
     "image/png": "[encoded data removed]"
    }
   },
   "cell_type": "markdown",
   "metadata": {},
   "source": [
    "![image.png](attachment:image.png)"
   ]
  },
  {
   "cell_type": "markdown",
   "metadata": {},
   "source": [
    "### ví dụ về hàm và lambda\n"
   ]
  },
  {
   "cell_type": "code",
   "execution_count": 1,
   "metadata": {},
   "outputs": [
    {
     "name": "stdout",
     "output_type": "stream",
     "text": [
      "20\n",
      "40\n"
     ]
    }
   ],
   "source": [
    "# Xây dụng hàm:\n",
    "def func(n):\n",
    "    return 2 * n\n",
    "\n",
    "print(func(10))\n",
    "print(func(20))\n"
   ]
  },
  {
   "cell_type": "code",
   "execution_count": 3,
   "metadata": {},
   "outputs": [
    {
     "name": "stdout",
     "output_type": "stream",
     "text": [
      "20\n",
      "40\n"
     ]
    }
   ],
   "source": [
    "# sử dụng lambda\n",
    "func = lambda x : x * 2\n",
    "\n",
    "print(func(10))\n",
    "print(func(20))"
   ]
  },
  {
   "cell_type": "markdown",
   "metadata": {},
   "source": [
    "### Chú ý: Trong biểu thức lambda, các bạn không cần câu lệnh return, lambda tự động trả về giá trị cho bạn."
   ]
  },
  {
   "cell_type": "markdown",
   "metadata": {},
   "source": [
    "## 2. Các tính chất của lambda:\n",
    "- Lambda không thể chứa các câu lệnh: Ví dụ như return, assest, pass, ...\n",
    "- Lambda chỉ chứa 1 biểu thức duy nhất.\n",
    "- IIFE: Immedediately Invoked Function Expression: Biểu thức lambda có thể được gọi ngay lập tức"
   ]
  },
  {
   "cell_type": "code",
   "execution_count": 4,
   "metadata": {},
   "outputs": [
    {
     "name": "stdout",
     "output_type": "stream",
     "text": [
      "100\n"
     ]
    }
   ],
   "source": [
    "# ví dụ\n",
    "res = (lambda x : x**2)(10)\n",
    "print(res)"
   ]
  },
  {
   "cell_type": "markdown",
   "metadata": {},
   "source": [
    "## 3. Lambda với nhiều tham số:\n",
    "- Bạn có thể gửi bao nhiêu tham số tùy ý, chỉ cần phân cách giữa các tham số bằng dấu phẩy.\n"
   ]
  },
  {
   "cell_type": "code",
   "execution_count": 5,
   "metadata": {},
   "outputs": [
    {
     "name": "stdout",
     "output_type": "stream",
     "text": [
      "600\n",
      "600\n"
     ]
    }
   ],
   "source": [
    "# Viết lambda tính tổng của 3 số\n",
    "sum = lambda x, y, z : x + y + z\n",
    "print(sum(100,200,300))\n",
    "\n",
    "print((lambda x, y ,z : x + y + z)(100,200,300))"
   ]
  },
  {
   "cell_type": "markdown",
   "metadata": {},
   "source": [
    "## 4. Truyền đối số cho Lambda\n",
    "- Positional argument\n"
   ]
  },
  {
   "cell_type": "code",
   "execution_count": 6,
   "metadata": {},
   "outputs": [
    {
     "name": "stdout",
     "output_type": "stream",
     "text": [
      "600\n"
     ]
    }
   ],
   "source": [
    "sum = lambda x, y ,z : x + y + z\n",
    "print(sum(100, 200, 300))\n"
   ]
  },
  {
   "cell_type": "markdown",
   "metadata": {},
   "source": [
    "- Keyword argument"
   ]
  },
  {
   "cell_type": "code",
   "execution_count": 7,
   "metadata": {},
   "outputs": [
    {
     "name": "stdout",
     "output_type": "stream",
     "text": [
      "60\n"
     ]
    }
   ],
   "source": [
    "sum = lambda x, y ,z : x + y + z\n",
    "print(sum(10, z = 20, y = 30))\n"
   ]
  },
  {
   "cell_type": "markdown",
   "metadata": {},
   "source": [
    "- Default argument"
   ]
  },
  {
   "cell_type": "code",
   "execution_count": 8,
   "metadata": {},
   "outputs": [
    {
     "name": "stdout",
     "output_type": "stream",
     "text": [
      "60\n"
     ]
    }
   ],
   "source": [
    "sum = lambda x, y  = 20, z = 30: x + y + z\n",
    "print(sum(10))"
   ]
  },
  {
   "cell_type": "markdown",
   "metadata": {},
   "source": [
    "## 5. Lambda và map():\n",
    "- hàm map() trong Python có 2 đối số là một hàm và 1 list, map áp dụng hàm này với các phần tử trong list.\n"
   ]
  },
  {
   "cell_type": "code",
   "execution_count": 9,
   "metadata": {},
   "outputs": [
    {
     "name": "stdout",
     "output_type": "stream",
     "text": [
      "[1, 4, 9, 16]\n"
     ]
    }
   ],
   "source": [
    "a = [1, 2, 3, 4]\n",
    "b = list(map(lambda x : x ** 2, a))\n",
    "print(b)\n"
   ]
  },
  {
   "cell_type": "markdown",
   "metadata": {},
   "source": [
    "## 6. Lambda và filter():\n",
    "- Hàm filter() tương tự như hàm map, khi apply các hàm trong filter với từng phần tử trong list mà giá trị của hàm trả về True thì filter lọc ra các phần tử này"
   ]
  },
  {
   "cell_type": "code",
   "execution_count": 10,
   "metadata": {},
   "outputs": [
    {
     "name": "stdout",
     "output_type": "stream",
     "text": [
      "[1, 2, 5]\n"
     ]
    }
   ],
   "source": [
    "a = [1, 2, -3, -4, 5]\n",
    "b = list(filter(lambda x : x > 0, a))\n",
    "print(b)"
   ]
  },
  {
   "cell_type": "markdown",
   "metadata": {},
   "source": [
    "## 7. if else và lambda:\n",
    "- Bạn có thể kết hợp if else trong lambda\n"
   ]
  },
  {
   "cell_type": "code",
   "execution_count": 11,
   "metadata": {},
   "outputs": [
    {
     "name": "stdout",
     "output_type": "stream",
     "text": [
      "200\n"
     ]
    }
   ],
   "source": [
    "findMax = lambda x, y : x if x > y else y\n",
    "print(findMax(100,200))"
   ]
  },
  {
   "cell_type": "markdown",
   "metadata": {},
   "source": [
    "## 8. List comprehension và lambda:\n"
   ]
  },
  {
   "cell_type": "code",
   "execution_count": 12,
   "metadata": {},
   "outputs": [
    {
     "name": "stdout",
     "output_type": "stream",
     "text": [
      "[1, 2, 5, 12]\n"
     ]
    }
   ],
   "source": [
    "change = lambda l : [x for x in l if x >= 0]\n",
    "a = [1, 2, -3, -4, 5, -10, 12]\n",
    "print(change(a))"
   ]
  },
  {
   "cell_type": "code",
   "execution_count": 14,
   "metadata": {},
   "outputs": [
    {
     "name": "stdout",
     "output_type": "stream",
     "text": [
      "[1, 2, 3, 4, 5, 6, 7, 8, 9]\n"
     ]
    }
   ],
   "source": [
    "flatten = lambda big_list : [item for small_list in big_list for item in small_list]\n",
    "a = [[1,2,3],[4,5,6],[7,8,9]]\n",
    "print(flatten(a))"
   ]
  }
 ],
 "metadata": {
  "kernelspec": {
   "display_name": "Python 3",
   "language": "python",
   "name": "python3"
  },
  "language_info": {
   "codemirror_mode": {
    "name": "ipython",
    "version": 3
   },
   "file_extension": ".py",
   "mimetype": "text/x-python",
   "name": "python",
   "nbconvert_exporter": "python",
   "pygments_lexer": "ipython3",
   "version": "3.12.2"
  }
 },
 "nbformat": 4,
 "nbformat_minor": 2
}
