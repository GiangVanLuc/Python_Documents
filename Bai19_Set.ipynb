{
 "cells": [
  {
   "cell_type": "markdown",
   "id": "ee140853",
   "metadata": {},
   "source": [
    "# SET\n",
    "- Set trong Python là một tập hợp các phần duy nhất không có thứ tự. Chúng thường được sử dụng để tính toán các phép toán liên quan tới tập hợp."
   ]
  },
  {
   "cell_type": "markdown",
   "id": "5e0bcfe3",
   "metadata": {},
   "source": [
    "## Các tính chất\n",
    "- Sets are unordered: Các phần tử trong set không có thứ tự nhất định nào cả.\n",
    "- Set items are unique: Các phần tử trong set là độc nhất, không có 2 phần tử nào trong set trùng nhau.\n",
    "- Set are unindexed: Set không thể truy cập được thông qua chỉ số.\n",
    "- Set are changeable (mutable): Set có thể thay đổi."
   ]
  },
  {
   "cell_type": "markdown",
   "id": "f238b442",
   "metadata": {},
   "source": [
    "## 1. Tạo set:\n",
    "- Để tạo set bạn để các phần tử trong set phân cách nhau bởi dấu phẩy và đặt trong đóng mở ngoặc nhọn.\n",
    "- Set không lưu những giá trị trùng nhau vì thế nếu set của bạn có các phần tử giống nhau nó sẽ tự bị loại bỏ.\n"
   ]
  },
  {
   "cell_type": "code",
   "execution_count": 1,
   "id": "3b2fc8bf",
   "metadata": {},
   "outputs": [
    {
     "name": "stdout",
     "output_type": "stream",
     "text": [
      "{'java', 'set', 'Luccute', 'python'}\n",
      "{1, 2, 3, 'abcd'}\n"
     ]
    }
   ],
   "source": [
    "s = {\"Luccute\", \"python\", \"Luccute\",\"java\",\"set\",\"set\"}\n",
    "print(s)\n",
    "t = {1,2,3,1,2,\"abcd\"}\n",
    "print(t)"
   ]
  },
  {
   "cell_type": "markdown",
   "id": "d121ba37",
   "metadata": {},
   "source": [
    "### Chú ý: \n",
    "- Set không thể lưu được những phần tử có thể thay đổi dược giá trị (mutable) ví dụ như list.\n",
    "- Các object không thể thay đổi như tuple, str, int,... thì có thể làm phần tử của list được vì chúng không thể thay đổi."
   ]
  },
  {
   "cell_type": "code",
   "execution_count": 2,
   "id": "926f4cfc",
   "metadata": {},
   "outputs": [
    {
     "ename": "TypeError",
     "evalue": "unhashable type: 'list'",
     "output_type": "error",
     "traceback": [
      "\u001b[1;31m---------------------------------------------------------------------------\u001b[0m",
      "\u001b[1;31mTypeError\u001b[0m                                 Traceback (most recent call last)",
      "Cell \u001b[1;32mIn[2], line 1\u001b[0m\n\u001b[1;32m----> 1\u001b[0m s \u001b[38;5;241m=\u001b[39m {[\u001b[38;5;241m1\u001b[39m,\u001b[38;5;241m2\u001b[39m],\u001b[38;5;124m\"\u001b[39m\u001b[38;5;124mpython\u001b[39m\u001b[38;5;124m\"\u001b[39m,\u001b[38;5;124m\"\u001b[39m\u001b[38;5;124mLucucte\u001b[39m\u001b[38;5;124m\"\u001b[39m}\n\u001b[0;32m      2\u001b[0m \u001b[38;5;28mprint\u001b[39m(s)\n",
      "\u001b[1;31mTypeError\u001b[0m: unhashable type: 'list'"
     ]
    }
   ],
   "source": [
    "s = {[1,2],\"python\",\"Lucucte\"}\n",
    "print(s)"
   ]
  },
  {
   "cell_type": "markdown",
   "id": "5853fc46",
   "metadata": {},
   "source": [
    "## 2. Set constructor:\n",
    "- Bạn có thể tạo set bằng set constructor từ các object khác nhưu list, str, range,..."
   ]
  },
  {
   "cell_type": "code",
   "execution_count": 3,
   "id": "8485c0dd",
   "metadata": {},
   "outputs": [
    {
     "name": "stdout",
     "output_type": "stream",
     "text": [
      "{'e', 'c', 't', 'u', 'L'}\n",
      "{1, 2, 3}\n"
     ]
    }
   ],
   "source": [
    "s = \"Luccutecute\"\n",
    "t = set(s)\n",
    "print(t)\n",
    "a = [1,2 , 3,1, 2]\n",
    "b = set(a)\n",
    "print(b)\n"
   ]
  },
  {
   "cell_type": "markdown",
   "id": "5eff75af",
   "metadata": {},
   "source": [
    "## 3. Thêm phần tử vào set:\n",
    "- Để thêm phần tử vào set ta sử dụng hàm add(), nếu bạn thêm 1 phần tử đã có mặt trong set thì phần tử này sẽ không được thêm vào vì set không lưu giá trị trùng.\n"
   ]
  },
  {
   "cell_type": "code",
   "execution_count": 4,
   "id": "4a778a16",
   "metadata": {},
   "outputs": [
    {
     "name": "stdout",
     "output_type": "stream",
     "text": [
      "{1, 'abc', 'Luccute', 'python'}\n"
     ]
    }
   ],
   "source": [
    "s = {\"Luccute\", \"abc\",\"python\"}\n",
    "s.add(\"abc\")\n",
    "s.add(1)\n",
    "print(s)"
   ]
  },
  {
   "cell_type": "markdown",
   "id": "9e64d1a3",
   "metadata": {},
   "source": [
    "- Để thêm nhiều phần tử vào set bạn có thể sử dụng hàm update().\n"
   ]
  },
  {
   "cell_type": "code",
   "execution_count": 5,
   "id": "16cb6d1a",
   "metadata": {},
   "outputs": [
    {
     "name": "stdout",
     "output_type": "stream",
     "text": [
      "{100, 'abc', 'python', 113, '28tech', 'Luccute'}\n"
     ]
    }
   ],
   "source": [
    "s = {\"Luccute\", \"abc\",\"python\"}\n",
    "s.update([100,\"abc\",\"28tech\",113])\n",
    "print(s)"
   ]
  },
  {
   "cell_type": "markdown",
   "id": "9c451433",
   "metadata": {},
   "source": [
    "## 4. Xóa phần tử khỏi set:\n",
    "- để xóa phần tử khỏi set ta sử dụng hàm remove(), discard(), pop(), clear.\n"
   ]
  },
  {
   "cell_type": "code",
   "execution_count": 6,
   "id": "77c908e0",
   "metadata": {},
   "outputs": [
    {
     "name": "stdout",
     "output_type": "stream",
     "text": [
      "{'C++', 'abc', 'python'}\n",
      "{'C++', 'python'}\n"
     ]
    }
   ],
   "source": [
    "# remove() và discard()\n",
    "\n",
    "s = {\"28tech\", \"abc\",\"python\",\"C++\"}\n",
    "s.remove(\"28tech\")\n",
    "print(s)\n",
    "s.discard(\"abc\")\n",
    "print(s)\n"
   ]
  },
  {
   "cell_type": "markdown",
   "id": "6e74821c",
   "metadata": {},
   "source": [
    "### Chú ý\n",
    "- 2 hàm remove và discard đều có chức năng xóa phần tử khỏi set nhưng remove() sẽ sinh ra lỗi Keyerror nếu bạn cố tình xóa một phần tử trong set, ngược lại discar() thì không."
   ]
  },
  {
   "cell_type": "markdown",
   "id": "901459b0",
   "metadata": {},
   "source": [
    "## 4. Xóa phần tử khỏi set:\n",
    "- pop() và clear()"
   ]
  },
  {
   "cell_type": "code",
   "execution_count": 9,
   "id": "e56f5a99",
   "metadata": {},
   "outputs": [
    {
     "name": "stdout",
     "output_type": "stream",
     "text": [
      "{'Lucute', 'abc', 'python'}\n",
      "set()\n"
     ]
    }
   ],
   "source": [
    "# pop(): Xóa 1 phần tử ngẫu nhiên trong set\n",
    "# clear(): Xóa toàn bộ các phần tử trong set\n",
    "\n",
    "s = {\"Lucute\", \"abc\",\"python\",\"C++\"}\n",
    "s.pop()\n",
    "print(s)\n",
    "s.clear()\n",
    "print(s)"
   ]
  },
  {
   "cell_type": "markdown",
   "id": "3f2d4d84",
   "metadata": {},
   "source": [
    "## 5. Hàm len(), duyệt set và toán tử in:\n",
    "- Để tìm số lượng phần tử trong set ta sử dụng hàm len()."
   ]
  },
  {
   "cell_type": "code",
   "execution_count": 15,
   "id": "dc350afc",
   "metadata": {},
   "outputs": [
    {
     "name": "stdout",
     "output_type": "stream",
     "text": [
      "4\n",
      "C++ abc Luccute python \n",
      "FOUND\n"
     ]
    }
   ],
   "source": [
    "s = {\"Luccute\",\"abc\",\"python\",\"C++\"}\n",
    "print(len(s))\n",
    "for x in s:\n",
    "    print(x, end =' ')\n",
    "print()\n",
    "if \"Luccute\" in s:\n",
    "    print(\"FOUND\")\n",
    "else:\n",
    "    print(\"NOT FOUND\")"
   ]
  },
  {
   "cell_type": "markdown",
   "id": "25f0cf77",
   "metadata": {},
   "source": [
    "## 6. Các phép toán trên tập hợp\n",
    "- Union : Phép hợp lấy ra các phần tử thuộc một trong 2 tập hợp, sử dụng hàm union() hoặc phép toán | để tìm hợp của 2 tập.\n"
   ]
  },
  {
   "cell_type": "code",
   "execution_count": 19,
   "id": "4f0404ee",
   "metadata": {},
   "outputs": [
    {
     "name": "stdout",
     "output_type": "stream",
     "text": [
      "{'Lucute', 'abc', 'python'}\n",
      "{'amazon', 'Luccute', 'python'}\n",
      "{'Luccute', 'amazon', 'Lucute', 'abc', 'python'}\n",
      "{'Luccute', 'amazon', 'Lucute', 'abc', 'python'}\n"
     ]
    }
   ],
   "source": [
    "s = {\"Lucute\", \"abc\",\"python\"}\n",
    "t = {\"Luccute\",\"amazon\",\"python\"}\n",
    "u = s.union(t)\n",
    "v = s | t\n",
    "print(s)\n",
    "print(t)\n",
    "print(u)\n",
    "print(v)\n"
   ]
  },
  {
   "cell_type": "markdown",
   "id": "2c525859",
   "metadata": {},
   "source": [
    "- Intersection(): Phép giao lấy ra các phần tử thuộc cả 2 tập, sử dụng hàm intersection() hoặc toán tử & để tìm giao của 2 tập"
   ]
  },
  {
   "cell_type": "code",
   "execution_count": 21,
   "id": "8c7f145e",
   "metadata": {},
   "outputs": [
    {
     "name": "stdout",
     "output_type": "stream",
     "text": [
      "{'amozon', 'Luccute', 'python'}\n",
      "{'amazon', 'Luccute', 'python'}\n",
      "{'Luccute', 'python'}\n",
      "{'Luccute', 'python'}\n"
     ]
    }
   ],
   "source": [
    "s ={\"Luccute\",\"amozon\",\"python\"}\n",
    "t = {\"Luccute\",\"amazon\",\"python\"}\n",
    "u = s.intersection(t)\n",
    "v = s & t\n",
    "print(s)\n",
    "print(t)\n",
    "print(u)\n",
    "print(v)\n"
   ]
  },
  {
   "cell_type": "markdown",
   "id": "23e82f4b",
   "metadata": {},
   "source": [
    "- Difference: Phép difference của tập A, B lấy ra các phần tử thuộc tập A nhwung không thuộc tập B, bạn có thể sử dụng hàm difference hoặc toán tử - để tìm difference của 2 tập.\n"
   ]
  },
  {
   "cell_type": "code",
   "execution_count": 24,
   "id": "a34ca9ce",
   "metadata": {},
   "outputs": [
    {
     "name": "stdout",
     "output_type": "stream",
     "text": [
      "{'Lucucte', 'abc', 'python'}\n",
      "{'amazon', 'Luccute', 'python'}\n",
      "{'Lucucte', 'abc'}\n",
      "{'Lucucte', 'abc'}\n"
     ]
    }
   ],
   "source": [
    "s = {\"Lucucte\", \"abc\",\"python\"}\n",
    "t = {\"Luccute\",\"amazon\",\"python\"}\n",
    "u = s.difference(t)\n",
    "v = s - t\n",
    "print(s)\n",
    "print(t)\n",
    "print(u)\n",
    "print(v)"
   ]
  },
  {
   "cell_type": "markdown",
   "id": "a1dd15db",
   "metadata": {},
   "source": [
    "- Symmetric Difference: Phép Symmetric Difference của 2 tập A và B lấy ra các phần tử thuộc 1 trong 2 tập nhưng bỏ đi những phần tử thuộc cả 2 tập, bạn có thể sử dụng hàm symmetric_difference hoặc toán tử ^."
   ]
  },
  {
   "cell_type": "code",
   "execution_count": 25,
   "id": "bbba89be",
   "metadata": {},
   "outputs": [
    {
     "name": "stdout",
     "output_type": "stream",
     "text": [
      "{'abc', 'Luccute', 'python'}\n",
      "{'amzon', 'Luccute', 'python'}\n",
      "{'amzon', 'abc'}\n",
      "{'amzon', 'abc'}\n"
     ]
    }
   ],
   "source": [
    "s = {\"Luccute\",\"abc\",\"python\"}\n",
    "t = {\"Luccute\",\"amzon\",\"python\"}\n",
    "u = s.symmetric_difference(t)\n",
    "v = s ^ t\n",
    "print(s)\n",
    "print(t)\n",
    "print(u)\n",
    "print(v)"
   ]
  },
  {
   "cell_type": "markdown",
   "id": "7ca78695",
   "metadata": {},
   "source": [
    "## 7. Các hàm phổ biến của set:\n",
    "isdisjoint(): Xác định xem 2 tập có phần tử chung nào không ?"
   ]
  },
  {
   "cell_type": "code",
   "execution_count": 26,
   "id": "96c604d6",
   "metadata": {},
   "outputs": [
    {
     "name": "stdout",
     "output_type": "stream",
     "text": [
      "False\n",
      "True\n"
     ]
    }
   ],
   "source": [
    "s = {\"Luccute\",\"abc\",\"python\"}\n",
    "t = {\"Luccute\",\"amazon\",\"python\"}\n",
    "u = {\"BKA\",\"UET\",\"PTIT\"}\n",
    "print(s.isdisjoint(t))\n",
    "print(s.isdisjoint(u))"
   ]
  },
  {
   "cell_type": "markdown",
   "id": "07338418",
   "metadata": {},
   "source": [
    "- issubset(): Kiểm tra xem tập này có phải là tập con của tập khác không?"
   ]
  },
  {
   "cell_type": "code",
   "execution_count": 27,
   "id": "573d247a",
   "metadata": {},
   "outputs": [
    {
     "name": "stdout",
     "output_type": "stream",
     "text": [
      "True\n",
      "False\n"
     ]
    }
   ],
   "source": [
    "s = {\"Luccute\",\"abc\",\"python\"}\n",
    "t = {\"Luccute\",\"python\"}\n",
    "u = {\"BKA\",\"UET\",\"Luccute\"}\n",
    "print(t.issubset(s))\n",
    "print(u.issubset(s))"
   ]
  },
  {
   "cell_type": "markdown",
   "id": "f478a88d",
   "metadata": {},
   "source": [
    "- issuperset(): kiểm tra xem tập hợp này có phải là cha của tập khác không?"
   ]
  },
  {
   "cell_type": "code",
   "execution_count": 28,
   "id": "4ec05f66",
   "metadata": {},
   "outputs": [
    {
     "name": "stdout",
     "output_type": "stream",
     "text": [
      "True\n",
      "False\n"
     ]
    }
   ],
   "source": [
    "s = {\"Luccute\",\"abc\",\"python\"}\n",
    "t = {\"Luccute\",\"python\"}\n",
    "u = {\"BKA\",\"UET\",\"Luccute\"}\n",
    "print(s.issuperset(t))\n",
    "print(u.issuperset(t))"
   ]
  }
 ],
 "metadata": {
  "kernelspec": {
   "display_name": "Python 3",
   "language": "python",
   "name": "python3"
  },
  "language_info": {
   "codemirror_mode": {
    "name": "ipython",
    "version": 3
   },
   "file_extension": ".py",
   "mimetype": "text/x-python",
   "name": "python",
   "nbconvert_exporter": "python",
   "pygments_lexer": "ipython3",
   "version": "3.12.2"
  }
 },
 "nbformat": 4,
 "nbformat_minor": 5
}
