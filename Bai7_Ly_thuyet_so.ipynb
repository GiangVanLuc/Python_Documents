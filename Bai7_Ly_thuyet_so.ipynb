{
 "cells": [
  {
   "cell_type": "markdown",
   "metadata": {},
   "source": [
    "# Problem 1 : Tính tổng ước và đếm ước của một số nguyên"
   ]
  },
  {
   "cell_type": "markdown",
   "metadata": {},
   "source": [
    "- Bài này mọi người chỉ cần duyệt đến căn bậc 2 của n thôi"
   ]
  },
  {
   "cell_type": "code",
   "execution_count": 1,
   "metadata": {},
   "outputs": [
    {
     "name": "stdout",
     "output_type": "stream",
     "text": [
      "6\n",
      "42\n"
     ]
    }
   ],
   "source": [
    "# Tính tổng ước và đếm ước của 1 số nguyên\n",
    "# Tôi sẽ viết tối ưu nhất mà tôi biết\n",
    "from math import *\n",
    "def dem_uoc(n):\n",
    "    cnt = 0\n",
    "    for i in range(1,int(sqrt(n) + 1)):\n",
    "        if n % i ==0 :\n",
    "            cnt+=1\n",
    "            if (n//i != i):\n",
    "                cnt += 1\n",
    "    return cnt\n",
    "\n",
    "def tong_uoc(n):\n",
    "    tong = 0\n",
    "    for i in range(1,int(sqrt(n)) + 1):\n",
    "        if n % i == 0:\n",
    "            tong += i\n",
    "            if n// i != i:\n",
    "                tong+= n//i\n",
    "    return tong\n",
    "\n",
    "if __name__ == '__main__':\n",
    "    n = int(input())\n",
    "    print(dem_uoc(n))\n",
    "    print(tong_uoc(n))\n"
   ]
  },
  {
   "cell_type": "markdown",
   "metadata": {},
   "source": [
    "# Problem 2: Kiểm tra số nguyên tố"
   ]
  },
  {
   "cell_type": "markdown",
   "metadata": {},
   "source": [
    "- số nguyên tố là số nguyên dương và chỉ có 2 ước là 1 và chính nó (1 không phải là số nguyên tố)\n",
    "- ví dụ : 2, 3, 5, 7 , 11, 13, 17, 19, ..."
   ]
  },
  {
   "cell_type": "code",
   "execution_count": 2,
   "metadata": {},
   "outputs": [
    {
     "name": "stdout",
     "output_type": "stream",
     "text": [
      "YES\n"
     ]
    }
   ],
   "source": [
    "# Kiểm tra số nguyên tố\n",
    "# khi kiểm tra số nguyên tố ta kiểm tính chất sai sẽ dễ dàng hơn là kiểm tra đúng\n",
    "import math\n",
    "def prime(n):\n",
    "    for i in range(2, math.isqrt(n) + 1):\n",
    "        if(n%i == 0):\n",
    "            return False\n",
    "    if n > 1: return True\n",
    "\n",
    "if __name__ == '__main__':\n",
    "    n = int(input())\n",
    "    if(prime(n)):\n",
    "        print(\"YES\")\n",
    "    else:\n",
    "        print(\"NO\")\n"
   ]
  },
  {
   "cell_type": "markdown",
   "metadata": {},
   "source": [
    "# Problem 3: Phân tích thừa số nguyên tố"
   ]
  },
  {
   "cell_type": "code",
   "execution_count": null,
   "metadata": {},
   "outputs": [
    {
     "name": "stdout",
     "output_type": "stream",
     "text": [
      "2 2 3 5 "
     ]
    }
   ],
   "source": [
    "# Phân tích thừa số nguyên tố, duy nhất\n",
    "from math import *\n",
    "\n",
    "def pt(n):\n",
    "    for i in range(2,int(sqrt(n)) + 1):\n",
    "        if n % i == 0:\n",
    "            # i: thừa số nguyên tố\n",
    "            while(n%i == 0):\n",
    "                print(i, end=' ')\n",
    "                n //= i\n",
    "    # n là số nguyên tố\n",
    "    if(n > 1): print(n)\n",
    "if __name__ == '__main__':\n",
    "    n = int(input())\n",
    "    pt(n)\n",
    "\n",
    "\n"
   ]
  },
  {
   "cell_type": "markdown",
   "metadata": {},
   "source": [
    "- chú ý : từ phân tích của 1 số ta có thể tính được số ước của số đó\n",
    "- formual: pt(n) = p^e1 * p^e2 *... * p^en \n",
    "- -> d(n) = (e1 + 1) * (e2 + 1) * ... *(en + 1)\n",
    "- p là số nguyên tố ei là số mũ của số nguyên tố"
   ]
  },
  {
   "cell_type": "markdown",
   "metadata": {},
   "source": [
    "# Problem 4: Số chính phương"
   ]
  },
  {
   "cell_type": "code",
   "execution_count": 6,
   "metadata": {},
   "outputs": [
    {
     "name": "stdout",
     "output_type": "stream",
     "text": [
      "NO\n",
      "YES\n"
     ]
    }
   ],
   "source": [
    "# kiểm tra 1 số có phải là số chính phương, lập phương không\n",
    "import math\n",
    "# số chính phương\n",
    "def square(n):\n",
    "    can = math.isqrt(n)\n",
    "    if can * can == n:\n",
    "        return True\n",
    "    else:\n",
    "        return False\n",
    "# số lập phương \n",
    "def cube(n):\n",
    "    can = pow(n,1/3)\n",
    "    if can ** 3 == n or (can + 1) ** 3:\n",
    "        return True\n",
    "    else: return False\n",
    "if __name__ == '__main__':\n",
    "    n = int(input())\n",
    "    if square(n):\n",
    "        print(\"YES\")\n",
    "    else:\n",
    "        print(\"NO\")\n",
    "    if cube(n):\n",
    "        print(\"YES\")\n",
    "    else:\n",
    "        print(\"NO\")"
   ]
  },
  {
   "cell_type": "markdown",
   "metadata": {},
   "source": [
    "# Problem 4: Ước chung lớn nhất, bội chung nhỏ nhất\n",
    "- sử dụng thuật toán Euclid"
   ]
  },
  {
   "cell_type": "code",
   "execution_count": 8,
   "metadata": {},
   "outputs": [
    {
     "name": "stdout",
     "output_type": "stream",
     "text": [
      "3\n",
      "90\n"
     ]
    }
   ],
   "source": [
    "# tìm ucln, bcnn\n",
    "\n",
    "def ucln(a, b):\n",
    "    while(b != 0):\n",
    "        a, b = b, a%b\n",
    "    return a\n",
    "\n",
    "def bcnn(a,b):\n",
    "    return a * b // ucln(a,b)\n",
    "\n",
    "if __name__ == '__main__':\n",
    "    a,b = map(int,input().split())\n",
    "    print(ucln(a,b))\n",
    "    print(bcnn(a,b))\n"
   ]
  },
  {
   "cell_type": "markdown",
   "metadata": {},
   "source": [
    "# Problem 5: Tổ hợp chập K của N"
   ]
  },
  {
   "cell_type": "code",
   "execution_count": 11,
   "metadata": {},
   "outputs": [
    {
     "name": "stdout",
     "output_type": "stream",
     "text": [
      "10\n"
     ]
    }
   ],
   "source": [
    "# tổ hợp chập k của n\n",
    "import math\n",
    "def tohop(n,k):\n",
    "    return math.factorial(n) // (math.factorial(k) * math.factorial(n -k))\n",
    "\n",
    "if __name__ == '__main__':\n",
    "    n, k = map(int, input().split())\n",
    "    print(tohop(n,k))"
   ]
  },
  {
   "cell_type": "markdown",
   "metadata": {},
   "source": [
    "# Problem 6: Số Fibonacci\n",
    "\n"
   ]
  },
  {
   "cell_type": "code",
   "execution_count": 18,
   "metadata": {},
   "outputs": [
    {
     "name": "stdout",
     "output_type": "stream",
     "text": [
      "0 1 1 2 3 5 8 13 21 34 True\n",
      "212207101440105399533740733471\n"
     ]
    }
   ],
   "source": [
    "# số fibonacci : 0, 1, 1, 2, 3, 5, 8, 13, 21, 34, ....\n",
    "import math\n",
    "\n",
    "# Liệt kê số fibonacci\n",
    "# 0 => n - 1\n",
    "def fibo(n):\n",
    "    if n == 1:\n",
    "        print(0)\n",
    "    elif n == 2:\n",
    "        print(\"0 1\")\n",
    "    else:\n",
    "        print('0 1',end = ' ')\n",
    "        fn1,fn2 = 1, 0\n",
    "        for i in range(2,n):\n",
    "            fn = fn1 + fn2\n",
    "            print(fn, end=' ')\n",
    "            fn2,fn1 = fn1, fn\n",
    "\n",
    "# kiểm tra có phải số fibonacci\n",
    "def checkFibo(n):\n",
    "    if n == 0 or n == 1:\n",
    "        return True\n",
    "    fn1,fn2 = 1, 0\n",
    "    for i in range(2,93):\n",
    "        fn = fn1 + fn2\n",
    "        if fn == n:\n",
    "            return True\n",
    "        fn2,fn1 = fn1, fn\n",
    "    return False\n",
    "\n",
    "# in số fibo thứ n\n",
    "def printFibo(n):\n",
    "    if n == 0 or n == 1:\n",
    "        return n\n",
    "    fn1, fn2 = 1, 0\n",
    "    for i in range(2,n):\n",
    "        fn = fn1 + fn2\n",
    "        fn2, fn1 = fn1 , fn\n",
    "    return fn\n",
    "if __name__ == '__main__':\n",
    "    fibo(10)\n",
    "    print(checkFibo(8))\n",
    "    print(printFibo(143))\n",
    "\n"
   ]
  },
  {
   "cell_type": "markdown",
   "metadata": {},
   "source": [
    "# Problem 7: Số thuận nghịch - Palindrome"
   ]
  },
  {
   "cell_type": "code",
   "execution_count": 19,
   "metadata": {},
   "outputs": [
    {
     "name": "stdout",
     "output_type": "stream",
     "text": [
      "True\n"
     ]
    }
   ],
   "source": [
    "# số thuật nghịch, đối xứng, palindrome\n",
    "import math\n",
    "def tn(n):\n",
    "    tmp = n\n",
    "    rev = 0\n",
    "    while(n):\n",
    "        rev = rev * 10 + n % 10\n",
    "        n //= 10\n",
    "    return rev == tmp\n",
    "if __name__ == '__main__':\n",
    "    print(tn(111))"
   ]
  },
  {
   "cell_type": "markdown",
   "metadata": {},
   "source": [
    "# Problem 8: Số Hoàn hảo và định lý Euclid - Euler"
   ]
  },
  {
   "cell_type": "code",
   "execution_count": 20,
   "metadata": {},
   "outputs": [
    {
     "name": "stdout",
     "output_type": "stream",
     "text": [
      "False\n"
     ]
    }
   ],
   "source": [
    "# số hoàn hảo\n",
    "\n",
    "# 28: 1 + 2 + 4 + 7 + 14\n",
    "import math\n",
    "def perfect(n):\n",
    "    tong = 1\n",
    "    for i in range(2, math.isqrt(n) + 1):\n",
    "        if n % i == 0:\n",
    "            tong += i\n",
    "            if i != n // i :\n",
    "                tong+= n// i\n",
    "\n",
    "    return tong == n\n",
    "\n",
    "if  __name__ == '__main__':\n",
    "    print(perfect(60))\n",
    "        "
   ]
  },
  {
   "cell_type": "code",
   "execution_count": 21,
   "metadata": {},
   "outputs": [
    {
     "name": "stdout",
     "output_type": "stream",
     "text": [
      "True\n"
     ]
    }
   ],
   "source": [
    "# Định lý euclid - euler\n",
    "# Nếu p là số nguyên tố và 2^p  - 1 cũng là số nguyên tố => (2^p - 1) * 2^(p-1) => số hoàn hảo\n",
    "import math\n",
    "\n",
    "def prime(n):\n",
    "    for i in range(2,math.isqrt(n) + 1):\n",
    "        if n % i == 0:\n",
    "            return False\n",
    "    return n > 1\n",
    "\n",
    "def  perfect(n):\n",
    "    for p in range(2,35):\n",
    "        if prime(p):\n",
    "            if prime(2**p - 1):\n",
    "                if(2 ** p  - 1) * (2 **(p-1)) == n:\n",
    "                    return True\n",
    "    return False\n",
    "\n",
    "if __name__ == '__main__':\n",
    "    print(perfect(6))            \n",
    "        "
   ]
  },
  {
   "cell_type": "markdown",
   "metadata": {},
   "source": [
    "# Problem 9: Lý thuyết đồng dư\n",
    "- (A + B) % C = ((A % C) + (B % C)) % C\n",
    "- (A - B) % C = ((A % C) - (B % C)) % C\n",
    "- (A * B) % C = ((A % C) * (B % C)) % C\n",
    "- (A / B) % C = ((A % C) * (B^-1 % C)) % C\n"
   ]
  }
 ],
 "metadata": {
  "kernelspec": {
   "display_name": "Python 3",
   "language": "python",
   "name": "python3"
  },
  "language_info": {
   "codemirror_mode": {
    "name": "ipython",
    "version": 3
   },
   "file_extension": ".py",
   "mimetype": "text/x-python",
   "name": "python",
   "nbconvert_exporter": "python",
   "pygments_lexer": "ipython3",
   "version": "3.12.2"
  }
 },
 "nbformat": 4,
 "nbformat_minor": 2
}
