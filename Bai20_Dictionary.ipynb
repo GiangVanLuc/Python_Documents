{
 "cells": [
  {
   "cell_type": "markdown",
   "id": "f6c296fd",
   "metadata": {},
   "source": [
    "# DICTIONARY\n",
    "- Dictionaries là một cấu trúc dữ liệu dạng associative aray hay hashmap.\n",
    "- Bạn có thể tưởng tượng dict (viết tắt) là mmootj cấu trúc dữ liệu mã mỗi phần tử của nó sẽ là một ánh xạ từ một khóa (key) sang một giá trị tương ứng (value)."
   ]
  },
  {
   "attachments": {
    "image.png": {
     "image/png": "[encoded data removed]"
    }
   },
   "cell_type": "markdown",
   "id": "f6f41012",
   "metadata": {},
   "source": [
    "## Ví dụ:\n",
    "![image.png](attachment:image.png)"
   ]
  },
  {
   "cell_type": "markdown",
   "id": "a7527bdf",
   "metadata": {},
   "source": [
    "## 1. Tạo dict:\n",
    "- Để tạo dict bạn liệt kê các cặp key: value phân cách nhau bởi dấu phẩy và đặt giữa đóng mở ngoặc nhọn. Mỗi cặp key: value được đặt cách nhau dấu:\n"
   ]
  },
  {
   "cell_type": "code",
   "execution_count": 2,
   "id": "74103cdc",
   "metadata": {},
   "outputs": [],
   "source": [
    "# Tạo dict lưu thông tin\n",
    "infor = {\n",
    "    'name' : '28tech',\n",
    "    'job' : 'dev',\n",
    "    'salary': 500,\n",
    "    'web' : 'Luc94.com.vn',\n",
    "    'city': 'HN'\n",
    "}"
   ]
  },
  {
   "cell_type": "code",
   "execution_count": null,
   "id": "0d2789c8",
   "metadata": {},
   "outputs": [],
   "source": [
    "# Tạo dict bằng dict() constructor"
   ]
  },
  {
   "cell_type": "markdown",
   "id": "0173b846",
   "metadata": {},
   "source": [
    "- Bạn có thể tạo dict bằng cách convert cặp 2 giá trị thành một item của dict, khi đó giá trị thứ nhất làm key, giá trị thứ 2 làm value."
   ]
  },
  {
   "cell_type": "code",
   "execution_count": 4,
   "id": "5e9184e7",
   "metadata": {},
   "outputs": [
    {
     "name": "stdout",
     "output_type": "stream",
     "text": [
      "{'name': 'Luccute', 'job': 'dev', 'web': 'Luc94.com.vn'}\n"
     ]
    }
   ],
   "source": [
    "a = [['name' , 'Luccute'], ['job', 'dev'], ('web','Luc94.com.vn')]\n",
    "b = dict(a)\n",
    "print(b)"
   ]
  },
  {
   "cell_type": "code",
   "execution_count": 5,
   "id": "5a490147",
   "metadata": {},
   "outputs": [
    {
     "name": "stdout",
     "output_type": "stream",
     "text": [
      "{'name': 'Luccute', 'job': 'dev', 'web': 'Luc94.com.vn'}\n"
     ]
    }
   ],
   "source": [
    "# Tạo dict bằng hàm zip()\n",
    "\n",
    "a = ['name' , 'job','web']\n",
    "b = ['Luccute', 'dev', 'Luc94.com.vn']\n",
    "c = dict(zip(a,b))\n",
    "print(c)"
   ]
  },
  {
   "cell_type": "code",
   "execution_count": 6,
   "id": "9c88ff14",
   "metadata": {},
   "outputs": [
    {
     "name": "stdout",
     "output_type": "stream",
     "text": [
      "{'a': 0, 'b': 0, 'c': 0}\n"
     ]
    }
   ],
   "source": [
    "# Tạo dict băng hàm fronkey\n",
    "a = ['a', 'b', 'c']\n",
    "defaultValue = 0\n",
    "b = dict.fromkeys(a,defaultValue)\n",
    "print(b)"
   ]
  },
  {
   "cell_type": "markdown",
   "id": "3a3f40b4",
   "metadata": {},
   "source": [
    "## 2. Các tính chất quan trọng của dict:\n",
    "- Key trong dict là duy nhất : Dict không thể chứa 2 key giống nhau, trong trường hợp bạn gán nhiều value cho cùng 1 key thì dict sẽ giữ lại value cuối cùng bạn gán cho key đó."
   ]
  },
  {
   "cell_type": "code",
   "execution_count": 7,
   "id": "a044f0b2",
   "metadata": {},
   "outputs": [
    {
     "name": "stdout",
     "output_type": "stream",
     "text": [
      "{'name': 'Luchu', 'job': 'dev'}\n"
     ]
    }
   ],
   "source": [
    "a = {'name' : 'Luccute', 'job' : 'dev' , 'name' : 'Luchu'}\n",
    "print(a)"
   ]
  },
  {
   "cell_type": "markdown",
   "id": "950ca2b1",
   "metadata": {},
   "source": [
    "- Key phải là object không thể thay đổi (immutable) : Bạn có thể lựa chọn tuple, str, int, ... làm key còn value có thể là bất kì object nào.\n"
   ]
  },
  {
   "cell_type": "code",
   "execution_count": 8,
   "id": "b7bbab6b",
   "metadata": {},
   "outputs": [
    {
     "name": "stdout",
     "output_type": "stream",
     "text": [
      "{(1, 2): 'abc', 'name': '28tech', 3: 4}\n"
     ]
    }
   ],
   "source": [
    "a = {(1,2) : 'abc' , 'name' : '28tech' , 3 : 4}\n",
    "print(a)"
   ]
  },
  {
   "cell_type": "code",
   "execution_count": 9,
   "id": "8e16b5e5",
   "metadata": {},
   "outputs": [
    {
     "ename": "TypeError",
     "evalue": "unhashable type: 'list'",
     "output_type": "error",
     "traceback": [
      "\u001b[1;31m---------------------------------------------------------------------------\u001b[0m",
      "\u001b[1;31mTypeError\u001b[0m                                 Traceback (most recent call last)",
      "Cell \u001b[1;32mIn[9], line 1\u001b[0m\n\u001b[1;32m----> 1\u001b[0m a \u001b[38;5;241m=\u001b[39m {[\u001b[38;5;241m1\u001b[39m,\u001b[38;5;241m2\u001b[39m] : \u001b[38;5;124m'\u001b[39m\u001b[38;5;124mabc\u001b[39m\u001b[38;5;124m'\u001b[39m , \u001b[38;5;124m'\u001b[39m\u001b[38;5;124mname\u001b[39m\u001b[38;5;124m'\u001b[39m : \u001b[38;5;124m'\u001b[39m\u001b[38;5;124mLuccute\u001b[39m\u001b[38;5;124m'\u001b[39m, \u001b[38;5;241m3\u001b[39m : \u001b[38;5;241m4\u001b[39m}\n\u001b[0;32m      2\u001b[0m \u001b[38;5;28mprint\u001b[39m(a)\n",
      "\u001b[1;31mTypeError\u001b[0m: unhashable type: 'list'"
     ]
    }
   ],
   "source": [
    "a = {[1,2] : 'abc' , 'name' : 'Luccute', 3 : 4}\n",
    "print(a)"
   ]
  },
  {
   "cell_type": "markdown",
   "id": "55054f2c",
   "metadata": {},
   "source": [
    "## 3. Truy cập phần tử:\n",
    "- Để truy cập value thông qua key ta dùng cú pháp : dict[key], tuy nhiên nếu bạn sử dụng một giá trị không phải là key trong dict sẽ dẫn đến lỗi."
   ]
  },
  {
   "cell_type": "code",
   "execution_count": 11,
   "id": "705d1a24",
   "metadata": {},
   "outputs": [
    {
     "name": "stdout",
     "output_type": "stream",
     "text": [
      "Luccute\n",
      "Luc94.com.vn\n"
     ]
    }
   ],
   "source": [
    "infor = {\n",
    "    'name' : 'Luccute',\n",
    "    'job'  : 'Dev',\n",
    "    'salary' : 500,\n",
    "    'web' : 'Luc94.com.vn',\n",
    "    'city' : 'HN'\n",
    "}\n",
    "print(infor['name'])\n",
    "print(infor['web'])"
   ]
  },
  {
   "cell_type": "markdown",
   "id": "0eaf029b",
   "metadata": {},
   "source": [
    "- Để tránh xảy ra lỗi khi truy cập vào một key không nằm trong dict các bạn có thể sử dụng hàm get(), hàm này sẽ trả về None nếu key bạn truy cập không nằm trong dict."
   ]
  },
  {
   "cell_type": "code",
   "execution_count": 12,
   "id": "4b974473",
   "metadata": {},
   "outputs": [
    {
     "name": "stdout",
     "output_type": "stream",
     "text": [
      "Luccute\n",
      "None\n"
     ]
    }
   ],
   "source": [
    "infor = {\n",
    "    'name' : 'Luccute',\n",
    "    'job'  : 'Dev',\n",
    "    'salary' : 500,\n",
    "    'web' : 'Luc94.com.vn',\n",
    "    'city' : 'HN'\n",
    "}\n",
    "print(infor.get('name'))\n",
    "print(infor.get('address'))"
   ]
  },
  {
   "cell_type": "markdown",
   "id": "63957ea0",
   "metadata": {},
   "source": [
    "## 4.Duyệt dict():\n",
    "- Lấy key, value, item trong list: Bạn có thể sử dụng phương thức key(), value(), item() trong dict để lấy về bộ key, value, hoặc item() trong dict. 3 phương này đều trả về iterable object, bạn có thể convert nó sang list."
   ]
  },
  {
   "cell_type": "code",
   "execution_count": 13,
   "id": "b667ff31",
   "metadata": {},
   "outputs": [
    {
     "name": "stdout",
     "output_type": "stream",
     "text": [
      "['name', 'job']\n",
      "['28tech', 'dev']\n",
      "[('name', '28tech'), ('job', 'dev')]\n"
     ]
    }
   ],
   "source": [
    "infor = {\n",
    "    'name' : '28tech',\n",
    "    'job' : 'dev',\n",
    "}\n",
    "\n",
    "a = list(infor.keys())\n",
    "b = list(infor.values())\n",
    "c = list(infor.items())\n",
    "print(a)\n",
    "print(b)\n",
    "print(c)\n",
    "\n"
   ]
  },
  {
   "cell_type": "markdown",
   "id": "ad0c9cd8",
   "metadata": {},
   "source": [
    "- Duyệt các key, valuet trong dict"
   ]
  },
  {
   "cell_type": "code",
   "execution_count": 14,
   "id": "15b9963d",
   "metadata": {},
   "outputs": [
    {
     "name": "stdout",
     "output_type": "stream",
     "text": [
      "name->Luccute\n",
      "job->Dev\n",
      "salary->500\n",
      "web->Luc94.com.vn\n",
      "city->HN\n"
     ]
    }
   ],
   "source": [
    "infor = {\n",
    "    'name' : 'Luccute',\n",
    "    'job'  : 'Dev',\n",
    "    'salary' : 500,\n",
    "    'web' : 'Luc94.com.vn',\n",
    "    'city' : 'HN'\n",
    "}\n",
    "for x in infor:\n",
    "    print(x, infor[x], sep = '->')"
   ]
  },
  {
   "cell_type": "code",
   "execution_count": 15,
   "id": "db5398d7",
   "metadata": {},
   "outputs": [
    {
     "name": "stdout",
     "output_type": "stream",
     "text": [
      "name->Luccute\n",
      "job->Dev\n",
      "salary->500\n",
      "web->Luc94.com.vn\n",
      "city->HN\n"
     ]
    }
   ],
   "source": [
    "infor = {\n",
    "    'name' : 'Luccute',\n",
    "    'job'  : 'Dev',\n",
    "    'salary' : 500,\n",
    "    'web' : 'Luc94.com.vn',\n",
    "    'city' : 'HN'\n",
    "}\n",
    "for (key,value) in infor.items():\n",
    "    print(key + '->' + str(value))"
   ]
  },
  {
   "cell_type": "code",
   "execution_count": 16,
   "id": "768cf906",
   "metadata": {},
   "outputs": [
    {
     "name": "stdout",
     "output_type": "stream",
     "text": [
      "Luccute\n",
      "Dev\n",
      "500\n",
      "Luc94.com.vn\n",
      "HN\n"
     ]
    }
   ],
   "source": [
    "infor = {\n",
    "    'name' : 'Luccute',\n",
    "    'job'  : 'Dev',\n",
    "    'salary' : 500,\n",
    "    'web' : 'Luc94.com.vn',\n",
    "    'city' : 'HN'\n",
    "}\n",
    "for x in infor.values():\n",
    "    print(x)"
   ]
  },
  {
   "cell_type": "markdown",
   "id": "6c98b581",
   "metadata": {},
   "source": [
    "## 5. Thêm và sửa dict:\n",
    "- Để thêm cặp key : value vào dict bạn sử dụng cụ pháp dict[key] = value. Nếu key đã nằm trong dict thì câu lệnh trên sẽ cập nhật value mới cho key."
   ]
  },
  {
   "cell_type": "code",
   "execution_count": 17,
   "id": "7c0dfa47",
   "metadata": {},
   "outputs": [
    {
     "name": "stdout",
     "output_type": "stream",
     "text": [
      "{'name': 'Lucute', 'job': 'dev', 'web': 'Luc94.com.vn'}\n"
     ]
    }
   ],
   "source": [
    "# thêm item\n",
    "infor = {\n",
    "    'name' : 'Lucute',\n",
    "    'job' : 'dev'\n",
    "}\n",
    "infor['web']  = 'Luc94.com.vn'\n",
    "print(infor)"
   ]
  },
  {
   "cell_type": "code",
   "execution_count": 20,
   "id": "52dad7f6",
   "metadata": {},
   "outputs": [
    {
     "name": "stdout",
     "output_type": "stream",
     "text": [
      "{'name': 'LucHu', 'job': 'dev'}\n"
     ]
    }
   ],
   "source": [
    "# Thay đổi giá trị value thông qua key\n",
    "infor = {\n",
    "    'name' : 'Luccute',\n",
    "    'job' : 'dev'\n",
    "}\n",
    "infor['name'] = 'LucHu'\n",
    "print(infor)"
   ]
  },
  {
   "cell_type": "markdown",
   "id": "930bc634",
   "metadata": {},
   "source": [
    "## 6. Xóa phần tử trong dict:\n",
    "- Xóa phần tử thông qua key bằng hàm pop()."
   ]
  },
  {
   "cell_type": "code",
   "execution_count": 21,
   "id": "e8953867",
   "metadata": {},
   "outputs": [
    {
     "name": "stdout",
     "output_type": "stream",
     "text": [
      "{'name': 'Luccute', 'web': 'Luc94.com.vn'}\n"
     ]
    }
   ],
   "source": [
    "infor = {\n",
    "    'name' : 'Luccute',\n",
    "    'job' : 'dev',\n",
    "    'web' : 'Luc94.com.vn'\n",
    "}\n",
    "infor.pop('job')\n",
    "print(infor)"
   ]
  },
  {
   "cell_type": "markdown",
   "id": "50301621",
   "metadata": {},
   "source": [
    "### Chú ý: sử dụng hàm pop() với key không tồn tại trong dict sẽ gây lỗi keyerror"
   ]
  },
  {
   "cell_type": "markdown",
   "id": "b3ef67f4",
   "metadata": {},
   "source": [
    "- Nếu bạn không cần giá trị value của item cần xóa bạn có thể sử dụng hàm del."
   ]
  },
  {
   "cell_type": "code",
   "execution_count": 22,
   "id": "8d582cc6",
   "metadata": {},
   "outputs": [
    {
     "name": "stdout",
     "output_type": "stream",
     "text": [
      "{'name': 'Luccute', 'web': 'Luc94.com.vn'}\n"
     ]
    }
   ],
   "source": [
    "infor = {\n",
    "    'name' : 'Luccute',\n",
    "    'job' : 'dev',\n",
    "    'web' : 'Luc94.com.vn'\n",
    "}\n",
    "del infor['job']\n",
    "print(infor)"
   ]
  },
  {
   "cell_type": "markdown",
   "id": "3bd25764",
   "metadata": {},
   "source": [
    "### Chú ý: sử dụng hàm del() với key không tồn tại trong dict sẽ gây lỗi keyerror."
   ]
  },
  {
   "cell_type": "markdown",
   "id": "40c4315c",
   "metadata": {},
   "source": [
    "- Xóa phần tử ngẫu nhiên bằng hàm popitem()"
   ]
  },
  {
   "cell_type": "code",
   "execution_count": 23,
   "id": "dd3b9645",
   "metadata": {},
   "outputs": [
    {
     "name": "stdout",
     "output_type": "stream",
     "text": [
      "('web', 'Luc94.com.vn')\n",
      "{'name': 'Luccute', 'job': 'dev'}\n"
     ]
    }
   ],
   "source": [
    "infor = {\n",
    "    'name' : 'Luccute',\n",
    "    'job' : 'dev',\n",
    "    'web' : 'Luc94.com.vn'\n",
    "}\n",
    "a = infor.popitem()\n",
    "print(a)\n",
    "print(infor)"
   ]
  },
  {
   "cell_type": "markdown",
   "id": "10548166",
   "metadata": {},
   "source": [
    "- Sử dụng hàm clear() để xóa mọi phần tử trong dict."
   ]
  },
  {
   "cell_type": "code",
   "execution_count": 25,
   "id": "5e48304a",
   "metadata": {},
   "outputs": [
    {
     "name": "stdout",
     "output_type": "stream",
     "text": [
      "0\n"
     ]
    }
   ],
   "source": [
    "infor = {\n",
    "    'name' : 'Luccute',\n",
    "    'job' : 'dev',\n",
    "    'web' : 'Luc94.com.vn'\n",
    "}\n",
    "infor.clear()\n",
    "print(len(infor))"
   ]
  },
  {
   "cell_type": "markdown",
   "id": "a3f2f6fa",
   "metadata": {},
   "source": [
    "## 7. Kiểm tra sự tồn tại của key, value:\n",
    "- Các bạn có thể sử dụng toán tử in để kiểm tra sự tồn tại của một key hoặc value nào đó trong dict."
   ]
  },
  {
   "cell_type": "code",
   "execution_count": 26,
   "id": "6bcf8ef9",
   "metadata": {},
   "outputs": [
    {
     "name": "stdout",
     "output_type": "stream",
     "text": [
      "True\n",
      "True\n"
     ]
    }
   ],
   "source": [
    "infor = {\n",
    "    'name' : 'Luccute',\n",
    "    'job' : 'dev',\n",
    "    'web' : 'Luc94.com.vn'\n",
    "}\n",
    "print('job' in infor)\n",
    "print('Luccute' in infor.values())\n"
   ]
  },
  {
   "cell_type": "markdown",
   "id": "59af194a",
   "metadata": {},
   "source": [
    "## 8. Trộn 2 dict:\n",
    "- để trộn 2 dict với nhau bạn có thể sử dụng hàm update()."
   ]
  },
  {
   "cell_type": "code",
   "execution_count": 28,
   "id": "54c0f7cc",
   "metadata": {},
   "outputs": [
    {
     "name": "stdout",
     "output_type": "stream",
     "text": [
      "name Luccute\n",
      "job dev\n",
      "web Luc.com.vn\n",
      "salary 500\n"
     ]
    }
   ],
   "source": [
    "a = {\n",
    "    'name' : 'Luccute',\n",
    "    'job' : 'dev'\n",
    "}\n",
    "b = {'web' : 'Luc.com.vn', 'salary' : 500}\n",
    "a.update(b)\n",
    "for key, value in a.items():\n",
    "    print(key, value)"
   ]
  },
  {
   "cell_type": "markdown",
   "id": "ba422ec7",
   "metadata": {},
   "source": [
    "## 9. Một số ví dụ với dict:\n",
    "- Với dict bạn có thể sử dụng vào những bài toán liên quan tới tần suất, đếm, đánh dấu....\n"
   ]
  },
  {
   "cell_type": "code",
   "execution_count": 29,
   "id": "cf9feaea",
   "metadata": {},
   "outputs": [
    {
     "name": "stdout",
     "output_type": "stream",
     "text": [
      "1 3\n",
      "3 2\n",
      "2 2\n",
      "0 1\n"
     ]
    }
   ],
   "source": [
    "# Đếm tần suất xuất hiện của phần tử trong mảng\n",
    "a = [1, 3, 2, 1 , 2 ,3, 1 ,0]\n",
    "d = dict({})\n",
    "for x in a:\n",
    "    if x in d:\n",
    "        d[x] += 1\n",
    "    else:\n",
    "        d[x] = 1\n",
    "for val, fre in d.items():\n",
    "    print(val, fre)"
   ]
  },
  {
   "cell_type": "code",
   "execution_count": 30,
   "id": "b55f5428",
   "metadata": {},
   "outputs": [
    {
     "name": "stdout",
     "output_type": "stream",
     "text": [
      "Luccute 2\n"
     ]
    }
   ],
   "source": [
    "# Tìm từ xuất hiện nhiều nhất trong câu, nếu có thể nhiều từ\n",
    "# có cùng số lần xuát hiện thì in ra từ có thứ tự từ điển nhỏ nhất.\n",
    "\n",
    "s =\"Luccute Luccute abc abc python c++ java\"\n",
    "d = dict({})\n",
    "for x in s.split():\n",
    "    if x in d : d[x] +=1\n",
    "    else : d[x] = 1\n",
    "b = list(d.items())\n",
    "b.sort(key = lambda x : (-x[1], x[0]))\n",
    "print(b[0][0] , b[0][1])"
   ]
  },
  {
   "attachments": {
    "image.png": {
     "image/png": "[encoded data removed]"
    }
   },
   "cell_type": "markdown",
   "id": "b9f9c0c8",
   "metadata": {},
   "source": [
    "## 10. Dict comprehension:\n",
    "- Tương tự như list comp, dict comp là một cách gọn nhẹ giúp tạo ra một dict giúp code của bạn chuẩn Pythonic hơn.\n",
    "![image.png](attachment:image.png)"
   ]
  },
  {
   "cell_type": "code",
   "execution_count": 31,
   "id": "25e430e1",
   "metadata": {},
   "outputs": [
    {
     "name": "stdout",
     "output_type": "stream",
     "text": [
      "{1: 1, 2: 4, 3: 9, 4: 16}\n",
      "{1: 1, 2: 4, 3: 9, 4: 16}\n"
     ]
    }
   ],
   "source": [
    "a = [1, 2, 3, 4]\n",
    "d1 = dict({})\n",
    "for x in a:\n",
    "    d1[x] = x**2\n",
    "\n",
    "#dict comp\n",
    "d2 = {x : x ** 2 for x in a}\n",
    "print(d1)\n",
    "print(d2)"
   ]
  },
  {
   "cell_type": "code",
   "execution_count": 32,
   "id": "452a9304",
   "metadata": {},
   "outputs": [
    {
     "name": "stdout",
     "output_type": "stream",
     "text": [
      "{'a': 'aaa', 'b': 'bbb', 'c': 'ccc'}\n"
     ]
    }
   ],
   "source": [
    "s = 'abc'\n",
    "d = {x : x * 3 for x in s}\n",
    "print(d)"
   ]
  },
  {
   "cell_type": "code",
   "execution_count": 33,
   "id": "20f95d2c",
   "metadata": {},
   "outputs": [
    {
     "name": "stdout",
     "output_type": "stream",
     "text": [
      "luccute LUCCUTE\n",
      "python PYTHON\n",
      "java JAVA\n",
      "c++ C++\n"
     ]
    }
   ],
   "source": [
    "s = ['Luccute', 'Python', 'Java', 'C++']\n",
    "d = {x.lower() : x.upper() for x in s}\n",
    "for key, val in d.items():\n",
    "    print(key,val)\n"
   ]
  },
  {
   "cell_type": "code",
   "execution_count": 34,
   "id": "5e1a7310",
   "metadata": {},
   "outputs": [
    {
     "name": "stdout",
     "output_type": "stream",
     "text": [
      "{'name': 'Luccute', 'job': 'dev'}\n"
     ]
    }
   ],
   "source": [
    "s = {'job': 'dev' , 'name' : 'Luccute', 'web': 'Luc94.com.vn', 'salary' : 500}\n",
    "selected = ['name', 'job']\n",
    "d = {x : s[x] for x in selected}\n",
    "print(d)"
   ]
  },
  {
   "cell_type": "markdown",
   "id": "9628e0b6",
   "metadata": {},
   "source": [
    "## 11. Counter trong Collections:"
   ]
  },
  {
   "cell_type": "code",
   "execution_count": 3,
   "id": "37a14896",
   "metadata": {},
   "outputs": [
    {
     "name": "stdout",
     "output_type": "stream",
     "text": [
      "[(1, 4), (2, 2), (3, 1), (4, 1), (0, 1), (5, 1)]\n"
     ]
    }
   ],
   "source": [
    "from collections import Counter\n",
    "\n",
    "if __name__ == \"__main__\":\n",
    "    a = [1,2,1,3,1,4,1,0,2,5]\n",
    "    b =list(dict(Counter(a)).items())\n",
    "    print(b)"
   ]
  }
 ],
 "metadata": {
  "kernelspec": {
   "display_name": "Python 3",
   "language": "python",
   "name": "python3"
  },
  "language_info": {
   "codemirror_mode": {
    "name": "ipython",
    "version": 3
   },
   "file_extension": ".py",
   "mimetype": "text/x-python",
   "name": "python",
   "nbconvert_exporter": "python",
   "pygments_lexer": "ipython3",
   "version": "3.12.2"
  }
 },
 "nbformat": 4,
 "nbformat_minor": 5
}
