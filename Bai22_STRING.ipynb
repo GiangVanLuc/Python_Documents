{
 "cells": [
  {
   "cell_type": "markdown",
   "id": "c154405e",
   "metadata": {},
   "source": [
    "# STRING\n",
    "- Xâu kí tự là chuỗi các kí tự được đặt giữa dấu nháy đơn hoặc nháy kép. Xâu trong Python được hỗ trợ một tập các công cụ xử lý cực kì mạnh mẽ.\n",
    "## 1. Tạo string: \n",
    "- Để tạo string ta đặt nội dung của xâu giữa dấu nháy đơn hoặc dấu nháy kép. Xâu có thể có hoặc không có kí tự."
   ]
  },
  {
   "cell_type": "code",
   "execution_count": 1,
   "id": "cf261e53",
   "metadata": {},
   "outputs": [
    {
     "name": "stdout",
     "output_type": "stream",
     "text": [
      "Luc94 python\n",
      "\n",
      "cuoc song\n",
      "tuoi dep\n",
      "\n"
     ]
    }
   ],
   "source": [
    "s = 'Luc94' # single quotes\n",
    "t = \"python\" # double quotes\n",
    "# Multiline string\n",
    "u = \"\"\"\n",
    "cuoc song\n",
    "tuoi dep\n",
    "\"\"\"\n",
    "print(s,t)\n",
    "print(u)\n"
   ]
  },
  {
   "cell_type": "markdown",
   "id": "707648c4",
   "metadata": {},
   "source": [
    "## 2. Str() construction:\n",
    "- Bạn có thể chuyển đổi hầu hết các đối tượng trong Python sang xâu kí tự bằng hàm khởi tạo str()\n",
    "\n"
   ]
  },
  {
   "cell_type": "code",
   "execution_count": 2,
   "id": "7bd55c5a",
   "metadata": {},
   "outputs": [
    {
     "name": "stdout",
     "output_type": "stream",
     "text": [
      "<class 'str'> <class 'str'> <class 'str'>\n"
     ]
    }
   ],
   "source": [
    "s = str(100)\n",
    "t = str(100.20)\n",
    "u = str(10 + 28j)\n",
    "print(type(s), type(t), type(u))\n"
   ]
  },
  {
   "attachments": {
    "image.png": {
     "image/png": "[encoded data removed]"
    }
   },
   "cell_type": "markdown",
   "id": "a16cd51f",
   "metadata": {},
   "source": [
    "## 3. Truy cập kí tự thông qua chỉ số và duyệt xâu:\n",
    "- Để truy cập vào các kí tự trong string, ta dùng chỉ số bắt đầu từ 0, ngoài ra Python còn hỗ trợ chỉ số âm (negative index)\n",
    "![image.png](attachment:image.png)"
   ]
  },
  {
   "cell_type": "code",
   "execution_count": 4,
   "id": "aa137929",
   "metadata": {},
   "outputs": [
    {
     "name": "stdout",
     "output_type": "stream",
     "text": [
      "8\n",
      "C\n"
     ]
    }
   ],
   "source": [
    "s = \"28TECH\"\n",
    "print(s[1])\n",
    "print(s[-2])\n"
   ]
  },
  {
   "cell_type": "code",
   "execution_count": 5,
   "id": "70112394",
   "metadata": {},
   "outputs": [
    {
     "name": "stdout",
     "output_type": "stream",
     "text": [
      "ucc\n",
      "ccute\n",
      "etuccuL\n"
     ]
    }
   ],
   "source": [
    "# Bạn có thể sử dụng string slicing tương tự như list\n",
    "s = \"Luccute\"\n",
    "print(s[1:4])\n",
    "print(s[2:])\n",
    "print(s[::-1])\n"
   ]
  },
  {
   "cell_type": "code",
   "execution_count": 6,
   "id": "cfa2b88a",
   "metadata": {},
   "outputs": [
    {
     "name": "stdout",
     "output_type": "stream",
     "text": [
      "L u c c u t e   d s a \n",
      "L u c c u t e   d s a "
     ]
    }
   ],
   "source": [
    "# Duyệt xâu\n",
    "s = \"Luccute dsa\"\n",
    "for x in s:\n",
    "    print(x, end= \" \")\n",
    "print()\n",
    "for i in range(len(s)):\n",
    "    print(s[i],end=\" \")\n",
    "    "
   ]
  },
  {
   "cell_type": "markdown",
   "id": "1fc059b4",
   "metadata": {},
   "source": [
    "## 4. String is immutable:\n",
    "- Bạn có thể truy cập các kí tự trong str thông qua chỉ số nhưng bạn không thể thay đổi được các kí tự đó bằng cách gán nó thành các kí tự hoặc xâu khác.\n"
   ]
  },
  {
   "cell_type": "code",
   "execution_count": 7,
   "id": "9a447f2c",
   "metadata": {},
   "outputs": [
    {
     "ename": "TypeError",
     "evalue": "'str' object does not support item assignment",
     "output_type": "error",
     "traceback": [
      "\u001b[1;31m---------------------------------------------------------------------------\u001b[0m",
      "\u001b[1;31mTypeError\u001b[0m                                 Traceback (most recent call last)",
      "Cell \u001b[1;32mIn[7], line 2\u001b[0m\n\u001b[0;32m      1\u001b[0m s \u001b[38;5;241m=\u001b[39m \u001b[38;5;124m\"\u001b[39m\u001b[38;5;124mLuccute\u001b[39m\u001b[38;5;124m\"\u001b[39m\n\u001b[1;32m----> 2\u001b[0m \u001b[43ms\u001b[49m\u001b[43m[\u001b[49m\u001b[38;5;241;43m0\u001b[39;49m\u001b[43m]\u001b[49m \u001b[38;5;241m=\u001b[39m \u001b[38;5;124m\"\u001b[39m\u001b[38;5;124m@\u001b[39m\u001b[38;5;124m\"\u001b[39m\n\u001b[0;32m      3\u001b[0m \u001b[38;5;28mprint\u001b[39m(s)\n",
      "\u001b[1;31mTypeError\u001b[0m: 'str' object does not support item assignment"
     ]
    }
   ],
   "source": [
    "s = \"Luccute\"\n",
    "s[0] = \"@\"\n",
    "print(s)"
   ]
  },
  {
   "cell_type": "markdown",
   "id": "874bfe0b",
   "metadata": {},
   "source": [
    "## 5. Nối xâu:\n",
    "- Trong Python để nối 2 xâu bạn có thể sử dụng toán tử +, Để nhân bản xâu bạn có thể đùng toán tử *.\n"
   ]
  },
  {
   "cell_type": "code",
   "execution_count": 8,
   "id": "ce733371",
   "metadata": {},
   "outputs": [
    {
     "name": "stdout",
     "output_type": "stream",
     "text": [
      "Luccute python\n",
      "ababab\n"
     ]
    }
   ],
   "source": [
    "s = \"Luccute\"\n",
    "t = \"python\"\n",
    "s =  s + \" \" + t\n",
    "print(s)\n",
    "a = \"ab\"\n",
    "b = a * 3\n",
    "print(b)"
   ]
  },
  {
   "cell_type": "markdown",
   "id": "e9c60eb5",
   "metadata": {},
   "source": [
    "## 6. Hàm replace():\n",
    "- Hàm replace() được sử dụng để thay thế 1 xâu cũ bằng một xâu mới.\n",
    "- Chú ý: Các hàm xử lý của str không thay đổi chính nó mà trả về xâu tương ứng."
   ]
  },
  {
   "cell_type": "code",
   "execution_count": 9,
   "id": "c729c62f",
   "metadata": {},
   "outputs": [
    {
     "name": "stdout",
     "output_type": "stream",
     "text": [
      "Luccute python C++\n",
      "Luccute java C++\n"
     ]
    }
   ],
   "source": [
    "s = \"Luccute python C++\"\n",
    "t = s.replace(\"python\", \"java\")\n",
    "print(s)\n",
    "print(t)"
   ]
  },
  {
   "cell_type": "markdown",
   "id": "1e565148",
   "metadata": {},
   "source": [
    "## 7. Hàm split() và join():\n",
    "- split(): Tách các từ trong xâu, mặc định nếu hàm này không có tham số sẽ tách theo dấu cách."
   ]
  },
  {
   "cell_type": "code",
   "execution_count": 10,
   "id": "c20e44f9",
   "metadata": {},
   "outputs": [
    {
     "name": "stdout",
     "output_type": "stream",
     "text": [
      "['Luccute', 'python', 'C++']\n",
      "['Luccute,python,C++']\n"
     ]
    }
   ],
   "source": [
    "s = \"Luccute   python C++\"\n",
    "a = s.split()\n",
    "print(a)\n",
    "t = \"Luccute,python,C++\"\n",
    "b = t.split()\n",
    "print(b)"
   ]
  },
  {
   "cell_type": "markdown",
   "id": "513e6472",
   "metadata": {},
   "source": [
    "- join(): Kết hợp các từ rời rạc thành 1 xâu được phân cách bởi kí tự cho trước."
   ]
  },
  {
   "cell_type": "code",
   "execution_count": 11,
   "id": "50267091",
   "metadata": {},
   "outputs": [
    {
     "name": "stdout",
     "output_type": "stream",
     "text": [
      "28tech,python,C++\n",
      "28tech##python##C++\n"
     ]
    }
   ],
   "source": [
    "s = [\"28tech\", \"python\", \"C++\"]\n",
    "t = ','.join(s)\n",
    "print(t)\n",
    "u = '##'.join(s)\n",
    "print(u)"
   ]
  },
  {
   "cell_type": "markdown",
   "id": "6b088808",
   "metadata": {},
   "source": [
    "## 8. Các hàm case conversion:\n",
    "- upper(): Chuyển sang in hoa\n",
    "- lower(): Chuyển sang in thường\n",
    "- capitalize(): Viết hoa chữ cái đầu của xâu\n",
    "- swapcase(): Chuyển chữ hoa thành thường và ngược lại.\n",
    "- title(): Viết hoa chữ cái đầu của từng từ, các kí tự còn lại viết thường."
   ]
  },
  {
   "cell_type": "code",
   "execution_count": 12,
   "id": "5b42eb31",
   "metadata": {},
   "outputs": [
    {
     "name": "stdout",
     "output_type": "stream",
     "text": [
      "LUCCUTE JAVA PYTHON\n",
      "luccute java python\n",
      "lUCCUTE jAVA pYTHON\n",
      "Luccute Java Python\n",
      "Luccute java python\n"
     ]
    }
   ],
   "source": [
    "s = \"Luccute Java Python\"\n",
    "s1 = s.upper()\n",
    "print(s1)\n",
    "s2 = s.lower()\n",
    "print(s2)\n",
    "s3 = s.swapcase()\n",
    "print(s3)\n",
    "s4 = s.title()\n",
    "print(s4)\n",
    "s5 = s.capitalize()\n",
    "print(s5)\n"
   ]
  },
  {
   "cell_type": "markdown",
   "id": "e5241f9c",
   "metadata": {},
   "source": [
    "## 9. Kiểm tra xâu con:\n",
    "- Để kiểm tra xâu con có thể sử dụng toán tử in hoặc hàm find, hàm find sẽ trả về chỉ số nhỏ nhất của xâu con nếu nó tồn tại trong xâu lớn, trả về -1 nếu không tìm thấy xâu con."
   ]
  },
  {
   "cell_type": "code",
   "execution_count": 13,
   "id": "7ee84201",
   "metadata": {},
   "outputs": [
    {
     "name": "stdout",
     "output_type": "stream",
     "text": [
      "FOUND\n",
      "0\n",
      "-1\n"
     ]
    }
   ],
   "source": [
    "s = \"Luccute dsa Luccute\"\n",
    "if \"Luccute\" in s:\n",
    "    print(\"FOUND\")\n",
    "print(s.find(\"Luccute\"))\n",
    "print(s.find(\"C++\"))"
   ]
  },
  {
   "cell_type": "markdown",
   "id": "5ecbd9f1",
   "metadata": {},
   "source": [
    "## 10. String format:\n",
    "- Trong Python có 3 cách nhúng biến vào trong xâu kí tự.\n"
   ]
  },
  {
   "cell_type": "code",
   "execution_count": 15,
   "id": "1d6ecc09",
   "metadata": {},
   "outputs": [
    {
     "name": "stdout",
     "output_type": "stream",
     "text": [
      "CR7 is 40 years old\n",
      "Pi = 3.14\n"
     ]
    }
   ],
   "source": [
    "# -% formating : %s : xâu kí tự, %d : số nguyên, %f: số float\n",
    "s = '%s is %d years old' % ('CR7', 40)\n",
    "t = 'Pi = %.2f' % (3.14159)\n",
    "print(s)\n",
    "print(t)"
   ]
  },
  {
   "cell_type": "code",
   "execution_count": 16,
   "id": "27ecd306",
   "metadata": {},
   "outputs": [
    {
     "name": "stdout",
     "output_type": "stream",
     "text": [
      "CR7 is 40 years old !\n"
     ]
    }
   ],
   "source": [
    "# str.format()\n",
    "s = '{0} is {1} years old !'.format('CR7', 40)\n",
    "print(s)"
   ]
  },
  {
   "cell_type": "code",
   "execution_count": 18,
   "id": "7f9044c9",
   "metadata": {},
   "outputs": [
    {
     "name": "stdout",
     "output_type": "stream",
     "text": [
      "CR7 is 40 years old !\n"
     ]
    }
   ],
   "source": [
    "# f-string\n",
    "name = 'CR7'\n",
    "age = 40\n",
    "s = f'{name} is {age} years old !'\n",
    "print(s)"
   ]
  },
  {
   "cell_type": "code",
   "execution_count": 2,
   "id": "6ae1a414",
   "metadata": {},
   "outputs": [
    {
     "name": "stdout",
     "output_type": "stream",
     "text": [
      "65\n",
      "A\n"
     ]
    }
   ],
   "source": [
    "# Chuyển từ kí tự sang mã ASCII\n",
    "if __name__ == \"__main__\":\n",
    "    print(ord('A'))\n",
    "    print(chr(65))"
   ]
  }
 ],
 "metadata": {
  "kernelspec": {
   "display_name": "Python 3",
   "language": "python",
   "name": "python3"
  },
  "language_info": {
   "codemirror_mode": {
    "name": "ipython",
    "version": 3
   },
   "file_extension": ".py",
   "mimetype": "text/x-python",
   "name": "python",
   "nbconvert_exporter": "python",
   "pygments_lexer": "ipython3",
   "version": "3.12.2"
  }
 },
 "nbformat": 4,
 "nbformat_minor": 5
}
